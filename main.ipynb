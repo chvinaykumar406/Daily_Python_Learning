{
 "cells": [
  {
   "cell_type": "markdown",
   "metadata": {},
   "source": [
    "<h1>LIST</H1>"
   ]
  },
  {
   "cell_type": "code",
   "execution_count": 1,
   "metadata": {},
   "outputs": [],
   "source": [
    "list1 = [1,2,3,4,5]"
   ]
  },
  {
   "cell_type": "code",
   "execution_count": null,
   "metadata": {},
   "outputs": [
    {
     "data": {
      "text/plain": [
       "[5, 4, 3, 2, 1]"
      ]
     },
     "execution_count": 4,
     "metadata": {},
     "output_type": "execute_result"
    }
   ],
   "source": [
    "#reversed of list returns an iterator\n",
    "#to get the reversed list, we need to convert it to list\n",
    "list(reversed(list1))"
   ]
  },
  {
   "cell_type": "code",
   "execution_count": null,
   "metadata": {},
   "outputs": [
    {
     "data": {
      "text/plain": [
       "['append',\n",
       " 'clear',\n",
       " 'copy',\n",
       " 'count',\n",
       " 'extend',\n",
       " 'index',\n",
       " 'insert',\n",
       " 'pop',\n",
       " 'remove',\n",
       " 'reverse',\n",
       " 'sort']"
      ]
     },
     "execution_count": 16,
     "metadata": {},
     "output_type": "execute_result"
    }
   ],
   "source": [
    "# dir to get the list of attributes and methods of an object\n",
    "# filter to get only the attributes and methods that have '__' in them dunder attributes\n",
    "list(filter(lambda x: x.find('__'), dir(list1)))"
   ]
  },
  {
   "cell_type": "code",
   "execution_count": 33,
   "metadata": {},
   "outputs": [
    {
     "name": "stdout",
     "output_type": "stream",
     "text": [
      "['hello', 'hello1']\n",
      "['hello1', 'hello']\n"
     ]
    }
   ],
   "source": [
    "s1 = ['hello','hello1']\n",
    "\n",
    "#sort on basis of length of string\n",
    "#sort accepts a function as key\n",
    "s1.sort(key = len)\n",
    "print(s1)\n",
    "\n",
    "#sort in descending order\n",
    "s1.sort(key = len, reverse=True)\n",
    "print(s1)\n",
    "\n",
    "#lambda function or any other function can be used as key"
   ]
  },
  {
   "cell_type": "code",
   "execution_count": null,
   "metadata": {},
   "outputs": [],
   "source": [
    "# len of list is O(1) as it is stored in the list object itself\n",
    "# append is O(1) as it is stored in the list object itself\n",
    "# pop is O(1) as it is stored in the list object itself\n",
    "# insert is O(n) as it has to shift all the elements to the right\n",
    "# del is O(n) as it has to shift all the elements to the left\n",
    "# remove is O(n) as it has to shift all the elements to the left"
   ]
  },
  {
   "cell_type": "markdown",
   "metadata": {},
   "source": [
    "<h1>Strings</h1>"
   ]
  },
  {
   "cell_type": "code",
   "execution_count": null,
   "metadata": {},
   "outputs": [
    {
     "name": "stdout",
     "output_type": "stream",
     "text": [
      "[True, False]\n",
      "97\n",
      "[True, True]\n"
     ]
    }
   ],
   "source": [
    "#checking isalpha for a list of strings\n",
    "s1 = ['hello','hello1']\n",
    "\n",
    "print([s.isalpha() for s in s1])\n",
    "\n",
    "print(ord('a')) #97\n",
    "\n",
    "print([s.startswith('hel') for s in s1]) #True #endswith"
   ]
  },
  {
   "cell_type": "markdown",
   "metadata": {},
   "source": [
    "<h1>Dictionary</h1>"
   ]
  },
  {
   "cell_type": "code",
   "execution_count": null,
   "metadata": {},
   "outputs": [
    {
     "data": {
      "text/plain": [
       "-1"
      ]
     },
     "execution_count": 66,
     "metadata": {},
     "output_type": "execute_result"
    }
   ],
   "source": [
    "from collections import defaultdict\n",
    "d = defaultdict(int) # if the element is not present it will return 0\n",
    "\n",
    "# how can i make it to return -1 if the element is not present\n",
    "d = defaultdict(lambda: -1)\n",
    "\n"
   ]
  },
  {
   "cell_type": "code",
   "execution_count": null,
   "metadata": {},
   "outputs": [
    {
     "name": "stdout",
     "output_type": "stream",
     "text": [
      "{(1, 2, 3, 4, 5): 1}\n"
     ]
    }
   ],
   "source": [
    "# list as a key in dictionary\n",
    "# list is mutable and hence cannot be used as a key in dictionary\n",
    "# we can convert the list to tuple and then use it as a key\n",
    "d1 = {tuple(list1): 1}\n",
    "\n",
    "print(d1)"
   ]
  },
  {
   "cell_type": "code",
   "execution_count": null,
   "metadata": {},
   "outputs": [],
   "source": []
  },
  {
   "cell_type": "markdown",
   "metadata": {},
   "source": [
    "<h1>Sets"
   ]
  },
  {
   "cell_type": "code",
   "execution_count": 35,
   "metadata": {},
   "outputs": [
    {
     "name": "stdout",
     "output_type": "stream",
     "text": [
      "{'b', 'a', 'c'}\n",
      "{'b', 'a', 'd', 'c', 'f'}\n",
      "{'b', 'd'}\n",
      "{'d'}\n",
      "{'b', 'a'}\n"
     ]
    }
   ],
   "source": [
    "s = set('abc') # {'c', 'a', 'b'}\n",
    "print(s)\n",
    "s |= set('cdf') # {'f', 'a', 'b', 'd', 'c'} set s with elements from new set\n",
    "print(s)\n",
    "s &= set('bd') # {'d', 'b'} only elements from new set\n",
    "print(s)\n",
    "s -= set('b') # {'d'} remove elements from new set\n",
    "print(s)\n",
    "s ^= set('abd') # {'a', 'b'} elements from s or new but not both\n",
    "print(s)"
   ]
  },
  {
   "cell_type": "markdown",
   "metadata": {},
   "source": [
    "<h1>Deque"
   ]
  },
  {
   "cell_type": "code",
   "execution_count": null,
   "metadata": {},
   "outputs": [],
   "source": [
    "# using help when you don't know where that particular module is imported from\n",
    "help(deque)\n",
    "\n",
    "# Help on class deque in module collections:\n",
    "\n",
    "# class deque(builtins.object)\n",
    "#  |  deque([iterable[, maxlen]]) --> deque object\n",
    "#  |  \n",
    "#  |  A list-like sequence optimized for data accesses near its endpoints.\n",
    "#  |  \n",
    "#  |  Methods defined here:"
   ]
  },
  {
   "cell_type": "code",
   "execution_count": null,
   "metadata": {},
   "outputs": [],
   "source": [
    "from collections import deque\n",
    "#good for both queue and stacks\n",
    "de = deque([1,2,3,4,5])\n",
    "de.popleft() #1\n",
    "de.pop() #5\n",
    "de.append(4) #deque([2, 3, 4, 4, 4])"
   ]
  },
  {
   "cell_type": "markdown",
   "metadata": {},
   "source": [
    "<h1>Classes"
   ]
  },
  {
   "cell_type": "code",
   "execution_count": 52,
   "metadata": {},
   "outputs": [],
   "source": [
    "# python classes create new attributes when mispelled.new.cat = brown, even if new doesnot have attribute it creates attribute cat.\n",
    "class animals:\n",
    "    def __init__(self,name):\n",
    "        self.name = name\n",
    "\n",
    "#if mispelled it creates a new attribute\n",
    "dog = animals('dog')\n",
    "dog.nae = 'cat'"
   ]
  },
  {
   "cell_type": "code",
   "execution_count": null,
   "metadata": {},
   "outputs": [],
   "source": []
  },
  {
   "cell_type": "code",
   "execution_count": null,
   "metadata": {},
   "outputs": [],
   "source": []
  }
 ],
 "metadata": {
  "kernelspec": {
   "display_name": "Python 3",
   "language": "python",
   "name": "python3"
  },
  "language_info": {
   "codemirror_mode": {
    "name": "ipython",
    "version": 3
   },
   "file_extension": ".py",
   "mimetype": "text/x-python",
   "name": "python",
   "nbconvert_exporter": "python",
   "pygments_lexer": "ipython3",
   "version": "3.11.3"
  }
 },
 "nbformat": 4,
 "nbformat_minor": 2
}
